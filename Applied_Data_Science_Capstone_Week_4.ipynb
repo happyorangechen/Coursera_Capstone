{
  "nbformat": 4,
  "nbformat_minor": 0,
  "metadata": {
    "colab": {
      "name": "Applied Data Science Capstone Week 4",
      "provenance": [],
      "collapsed_sections": [],
      "authorship_tag": "ABX9TyOiUjAKk0tL+dO+GQ32uvQf",
      "include_colab_link": true
    },
    "kernelspec": {
      "name": "python3",
      "display_name": "Python 3"
    },
    "language_info": {
      "name": "python"
    }
  },
  "cells": [
    {
      "cell_type": "markdown",
      "metadata": {
        "id": "view-in-github",
        "colab_type": "text"
      },
      "source": [
        "<a href=\"https://colab.research.google.com/github/happyorangechen/Coursera_Capstone/blob/main/Applied_Data_Science_Capstone_Week_4.ipynb\" target=\"_parent\"><img src=\"https://colab.research.google.com/assets/colab-badge.svg\" alt=\"Open In Colab\"/></a>"
      ]
    },
    {
      "cell_type": "code",
      "metadata": {
        "id": "wvVV0pwLUmTj"
      },
      "source": [
        ""
      ],
      "execution_count": null,
      "outputs": []
    },
    {
      "cell_type": "markdown",
      "metadata": {
        "id": "jGcZMOazU0Qf"
      },
      "source": [
        "Introduction\n",
        "\n",
        "Toronto is the capital city of the Canadian province of Ontario. It is the most populous city in Canada and the fourth most populous city in North America. Toronto is a culturally diverse and financially vibrate city and attracts many immigrants from all around the world. \n",
        "\n",
        "Business Problem\n",
        "\n",
        "Wendy, a Chinese artist and investor wants to open an art gallery in Toronto. However, she is not familiar with the local area developments and dynamics. Therefore, she hires a data scientist to conduct research and identify the ideal location for her art gallery. The two main questions are: 1) What are the different neiborhoods of Toronto? 2) Which neiborwood is the best location for the art gallery?\n",
        "\n",
        "In order to anwer the above two questions, the data scientst needs the following data:\n",
        "\n",
        "1. List of the districts of Toronto\n",
        "\n",
        "Data Source: https://en.wikipedia.org/wiki/List_of_postal_codes_of_Canada:_M\n",
        "Description: We will get a list of postal codes in Toronto Canada.\n",
        "\n",
        "2. Geo-coordinate of the districts in Toronto\n",
        "\n",
        "Data Source: http://cocl.us/Geospatial_data\n",
        "Description: From the file of toronto_coordinates.csv on this website, we will get the latitude and longtitude information of Toronto.\n",
        "\n",
        "3. Top venues of districts in Toronto\n",
        "\n",
        "Data source: Foursquare API  \n",
        "Description: By using this API we will get all the venues in each district. We can group the areas into meaningful clusters. \n",
        "\n",
        "Target Audience \n",
        "\n",
        "The target audience of this project are business owners or entreprenuers such as Wendy who are not familiar with Toronto around areas but want to start a new business in this big city."
      ]
    }
  ]
}